{
 "cells": [
  {
   "cell_type": "code",
   "execution_count": 66,
   "metadata": {},
   "outputs": [],
   "source": [
    "import pandas as pd\n",
    "import numpy as np\n",
    "import matplotlib.pyplot as plt\n",
    "import seaborn as sns"
   ]
  },
  {
   "cell_type": "code",
   "execution_count": 67,
   "metadata": {},
   "outputs": [
    {
     "name": "stdout",
     "output_type": "stream",
     "text": [
      "  Job ID            Job Title Company Name Job Location    Job Type  \\\n",
      "0   JOB1    Software Engineer       Amazon    Ahmedabad   Full-time   \n",
      "1   JOB2  Marketing Executive      Infosys    Ahmedabad  Internship   \n",
      "2   JOB3    Financial Analyst     Deloitte       Jaipur    Contract   \n",
      "3   JOB4     Business Analyst       Amazon        Delhi   Full-time   \n",
      "4   JOB5    Software Engineer      Infosys        Delhi   Full-time   \n",
      "\n",
      "  Salary Range Experience Required Posted Date Application Deadline  \\\n",
      "0      5-8 LPA           2-5 years  2025-01-16           2025-01-25   \n",
      "1      5-8 LPA           2-5 years  2024-12-25           2025-01-19   \n",
      "2      20+ LPA          5-10 years  2025-01-22           2025-01-29   \n",
      "3      20+ LPA           2-5 years  2025-01-07           2025-02-06   \n",
      "4    12-20 LPA           10+ years  2024-12-26           2025-01-08   \n",
      "\n",
      "   Job Portal  Number of Applicants Education Requirement  \\\n",
      "0    LinkedIn                    23                   PhD   \n",
      "1      Indeed                   462                   MBA   \n",
      "2  Naukri.com                   430                M.Tech   \n",
      "3    LinkedIn                   387                B.Tech   \n",
      "4      Indeed                   199                   MBA   \n",
      "\n",
      "                  Skills Required Remote/Onsite  Company Size  \n",
      "0                C++, SQL, Python        Remote  Small (1-50)  \n",
      "1                SQL, C++, Python        Remote  Large (500+)  \n",
      "2  Machine Learning, Excel, React        Remote  Large (500+)  \n",
      "3   Machine Learning, Python, SQL        Hybrid  Small (1-50)  \n",
      "4                UI/UX, C++, Java        Onsite  Small (1-50)  \n",
      "<class 'pandas.core.frame.DataFrame'>\n",
      "RangeIndex: 20000 entries, 0 to 19999\n",
      "Data columns (total 15 columns):\n",
      " #   Column                 Non-Null Count  Dtype \n",
      "---  ------                 --------------  ----- \n",
      " 0   Job ID                 20000 non-null  object\n",
      " 1   Job Title              20000 non-null  object\n",
      " 2   Company Name           20000 non-null  object\n",
      " 3   Job Location           20000 non-null  object\n",
      " 4   Job Type               20000 non-null  object\n",
      " 5   Salary Range           20000 non-null  object\n",
      " 6   Experience Required    20000 non-null  object\n",
      " 7   Posted Date            20000 non-null  object\n",
      " 8   Application Deadline   20000 non-null  object\n",
      " 9   Job Portal             20000 non-null  object\n",
      " 10  Number of Applicants   20000 non-null  int64 \n",
      " 11  Education Requirement  20000 non-null  object\n",
      " 12  Skills Required        20000 non-null  object\n",
      " 13  Remote/Onsite          20000 non-null  object\n",
      " 14  Company Size           20000 non-null  object\n",
      "dtypes: int64(1), object(14)\n",
      "memory usage: 2.3+ MB\n",
      "None\n",
      "  Job ID            Job Title Company Name Job Location    Job Type  \\\n",
      "0   JOB1    Software Engineer       Amazon    Ahmedabad   Full-time   \n",
      "1   JOB2  Marketing Executive      Infosys    Ahmedabad  Internship   \n",
      "2   JOB3    Financial Analyst     Deloitte       Jaipur    Contract   \n",
      "3   JOB4     Business Analyst       Amazon        Delhi   Full-time   \n",
      "4   JOB5    Software Engineer      Infosys        Delhi   Full-time   \n",
      "\n",
      "  Salary Range Experience Required Posted Date Application Deadline  \\\n",
      "0      5-8 LPA           2-5 years  2025-01-16           2025-01-25   \n",
      "1      5-8 LPA           2-5 years  2024-12-25           2025-01-19   \n",
      "2      20+ LPA          5-10 years  2025-01-22           2025-01-29   \n",
      "3      20+ LPA           2-5 years  2025-01-07           2025-02-06   \n",
      "4    12-20 LPA           10+ years  2024-12-26           2025-01-08   \n",
      "\n",
      "   Job Portal  Number of Applicants Education Requirement  \\\n",
      "0    LinkedIn                    23                   PhD   \n",
      "1      Indeed                   462                   MBA   \n",
      "2  Naukri.com                   430                M.Tech   \n",
      "3    LinkedIn                   387                B.Tech   \n",
      "4      Indeed                   199                   MBA   \n",
      "\n",
      "                  Skills Required Remote/Onsite  Company Size  \n",
      "0                C++, SQL, Python        Remote  Small (1-50)  \n",
      "1                SQL, C++, Python        Remote  Large (500+)  \n",
      "2  Machine Learning, Excel, React        Remote  Large (500+)  \n",
      "3   Machine Learning, Python, SQL        Hybrid  Small (1-50)  \n",
      "4                UI/UX, C++, Java        Onsite  Small (1-50)  \n",
      "Job ID                   20000\n",
      "Job Title                   10\n",
      "Company Name                10\n",
      "Job Location                10\n",
      "Job Type                     4\n",
      "Salary Range                 5\n",
      "Experience Required          4\n",
      "Posted Date                 31\n",
      "Application Deadline        54\n",
      "Job Portal                   3\n",
      "Number of Applicants       491\n",
      "Education Requirement        5\n",
      "Skills Required            720\n",
      "Remote/Onsite                3\n",
      "Company Size                 3\n",
      "dtype: int64\n",
      "Job ID                   0\n",
      "Job Title                0\n",
      "Company Name             0\n",
      "Job Location             0\n",
      "Job Type                 0\n",
      "Salary Range             0\n",
      "Experience Required      0\n",
      "Posted Date              0\n",
      "Application Deadline     0\n",
      "Job Portal               0\n",
      "Number of Applicants     0\n",
      "Education Requirement    0\n",
      "Skills Required          0\n",
      "Remote/Onsite            0\n",
      "Company Size             0\n",
      "dtype: int64\n",
      "Job ID                   0.0\n",
      "Job Title                0.0\n",
      "Company Name             0.0\n",
      "Job Location             0.0\n",
      "Job Type                 0.0\n",
      "Salary Range             0.0\n",
      "Experience Required      0.0\n",
      "Posted Date              0.0\n",
      "Application Deadline     0.0\n",
      "Job Portal               0.0\n",
      "Number of Applicants     0.0\n",
      "Education Requirement    0.0\n",
      "Skills Required          0.0\n",
      "Remote/Onsite            0.0\n",
      "Company Size             0.0\n",
      "dtype: float64\n"
     ]
    }
   ],
   "source": [
    "path=r\"C:\\Users\\YTECH\\Downloads\\archive (2)\\india_job_market_dataset.csv\"\n",
    "data=pd.read_csv(path)\n",
    "print(data.head())\n",
    "print(data.info())\n",
    "print(data.head())\n",
    "print(data.nunique())\n",
    "print(data.isnull().sum())\n",
    "print((data.isnull().sum()/(len(data)))*100)"
   ]
  },
  {
   "cell_type": "code",
   "execution_count": 68,
   "metadata": {},
   "outputs": [
    {
     "name": "stdout",
     "output_type": "stream",
     "text": [
      "         Job ID             Job Title Company Name Job Location    Job Type  \\\n",
      "19995  JOB19996   Marketing Executive     Deloitte         Pune   Full-time   \n",
      "19996  JOB19997      Business Analyst    Accenture    Bangalore  Internship   \n",
      "19997  JOB19998      Graphic Designer        Wipro       Jaipur   Part-time   \n",
      "19998  JOB19999  Sales Representative      Infosys      Kolkata  Internship   \n",
      "19999  JOB20000      Business Analyst    Accenture       Mumbai   Part-time   \n",
      "\n",
      "      Salary Range Experience Required Posted Date Application Deadline  \\\n",
      "19995      5-8 LPA           2-5 years  2025-01-13           2025-02-05   \n",
      "19996      20+ LPA           0-2 years  2025-01-08           2025-01-27   \n",
      "19997      5-8 LPA          5-10 years  2024-12-26           2025-01-16   \n",
      "19998    12-20 LPA           2-5 years  2025-01-20           2025-02-09   \n",
      "19999      5-8 LPA           0-2 years  2024-12-30           2025-01-13   \n",
      "\n",
      "       Job Portal  Number of Applicants Education Requirement  \\\n",
      "19995      Indeed                   171                   PhD   \n",
      "19996    LinkedIn                   482                   MBA   \n",
      "19997  Naukri.com                   319                   PhD   \n",
      "19998  Naukri.com                   178                M.Tech   \n",
      "19999      Indeed                    88                  B.Sc   \n",
      "\n",
      "                                  Skills Required Remote/Onsite  \\\n",
      "19995               Machine Learning, Python, AWS        Remote   \n",
      "19996  Digital Marketing, React, Machine Learning        Onsite   \n",
      "19997  Machine Learning, Excel, Digital Marketing        Onsite   \n",
      "19998                           Excel, C++, React        Onsite   \n",
      "19999                           Java, C++, Python        Remote   \n",
      "\n",
      "          Company Size  \n",
      "19995     Small (1-50)  \n",
      "19996  Medium (51-500)  \n",
      "19997     Small (1-50)  \n",
      "19998     Large (500+)  \n",
      "19999  Medium (51-500)  \n"
     ]
    }
   ],
   "source": [
    "print(data.tail())"
   ]
  },
  {
   "cell_type": "code",
   "execution_count": 69,
   "metadata": {},
   "outputs": [
    {
     "name": "stdout",
     "output_type": "stream",
     "text": [
      "<class 'pandas.core.frame.DataFrame'>\n",
      "RangeIndex: 20000 entries, 0 to 19999\n",
      "Data columns (total 14 columns):\n",
      " #   Column                 Non-Null Count  Dtype \n",
      "---  ------                 --------------  ----- \n",
      " 0   Job Title              20000 non-null  object\n",
      " 1   Company Name           20000 non-null  object\n",
      " 2   Job Location           20000 non-null  object\n",
      " 3   Job Type               20000 non-null  object\n",
      " 4   Salary Range           20000 non-null  object\n",
      " 5   Experience Required    20000 non-null  object\n",
      " 6   Posted Date            20000 non-null  object\n",
      " 7   Application Deadline   20000 non-null  object\n",
      " 8   Job Portal             20000 non-null  object\n",
      " 9   Number of Applicants   20000 non-null  int64 \n",
      " 10  Education Requirement  20000 non-null  object\n",
      " 11  Skills Required        20000 non-null  object\n",
      " 12  Remote/Onsite          20000 non-null  object\n",
      " 13  Company Size           20000 non-null  object\n",
      "dtypes: int64(1), object(13)\n",
      "memory usage: 2.1+ MB\n"
     ]
    }
   ],
   "source": [
    "# Remove S.No. column from data\n",
    "data = data.drop(['Job ID'], axis = 1)\n",
    "data.info()"
   ]
  },
  {
   "cell_type": "code",
   "execution_count": 70,
   "metadata": {},
   "outputs": [
    {
     "data": {
      "text/html": [
       "<div>\n",
       "<style scoped>\n",
       "    .dataframe tbody tr th:only-of-type {\n",
       "        vertical-align: middle;\n",
       "    }\n",
       "\n",
       "    .dataframe tbody tr th {\n",
       "        vertical-align: top;\n",
       "    }\n",
       "\n",
       "    .dataframe thead th {\n",
       "        text-align: right;\n",
       "    }\n",
       "</style>\n",
       "<table border=\"1\" class=\"dataframe\">\n",
       "  <thead>\n",
       "    <tr style=\"text-align: right;\">\n",
       "      <th></th>\n",
       "      <th>count</th>\n",
       "      <th>mean</th>\n",
       "      <th>std</th>\n",
       "      <th>min</th>\n",
       "      <th>25%</th>\n",
       "      <th>50%</th>\n",
       "      <th>75%</th>\n",
       "      <th>max</th>\n",
       "    </tr>\n",
       "  </thead>\n",
       "  <tbody>\n",
       "    <tr>\n",
       "      <th>Number of Applicants</th>\n",
       "      <td>20000.0</td>\n",
       "      <td>256.7233</td>\n",
       "      <td>141.745833</td>\n",
       "      <td>10.0</td>\n",
       "      <td>134.0</td>\n",
       "      <td>258.0</td>\n",
       "      <td>380.0</td>\n",
       "      <td>500.0</td>\n",
       "    </tr>\n",
       "  </tbody>\n",
       "</table>\n",
       "</div>"
      ],
      "text/plain": [
       "                        count      mean         std   min    25%    50%  \\\n",
       "Number of Applicants  20000.0  256.7233  141.745833  10.0  134.0  258.0   \n",
       "\n",
       "                        75%    max  \n",
       "Number of Applicants  380.0  500.0  "
      ]
     },
     "execution_count": 70,
     "metadata": {},
     "output_type": "execute_result"
    }
   ],
   "source": [
    "data.describe().T"
   ]
  },
  {
   "cell_type": "code",
   "execution_count": 71,
   "metadata": {},
   "outputs": [
    {
     "data": {
      "text/html": [
       "<div>\n",
       "<style scoped>\n",
       "    .dataframe tbody tr th:only-of-type {\n",
       "        vertical-align: middle;\n",
       "    }\n",
       "\n",
       "    .dataframe tbody tr th {\n",
       "        vertical-align: top;\n",
       "    }\n",
       "\n",
       "    .dataframe thead th {\n",
       "        text-align: right;\n",
       "    }\n",
       "</style>\n",
       "<table border=\"1\" class=\"dataframe\">\n",
       "  <thead>\n",
       "    <tr style=\"text-align: right;\">\n",
       "      <th></th>\n",
       "      <th>count</th>\n",
       "      <th>unique</th>\n",
       "      <th>top</th>\n",
       "      <th>freq</th>\n",
       "      <th>mean</th>\n",
       "      <th>std</th>\n",
       "      <th>min</th>\n",
       "      <th>25%</th>\n",
       "      <th>50%</th>\n",
       "      <th>75%</th>\n",
       "      <th>max</th>\n",
       "    </tr>\n",
       "  </thead>\n",
       "  <tbody>\n",
       "    <tr>\n",
       "      <th>Job Title</th>\n",
       "      <td>20000</td>\n",
       "      <td>10</td>\n",
       "      <td>Cyber Security Analyst</td>\n",
       "      <td>2085</td>\n",
       "      <td>NaN</td>\n",
       "      <td>NaN</td>\n",
       "      <td>NaN</td>\n",
       "      <td>NaN</td>\n",
       "      <td>NaN</td>\n",
       "      <td>NaN</td>\n",
       "      <td>NaN</td>\n",
       "    </tr>\n",
       "    <tr>\n",
       "      <th>Company Name</th>\n",
       "      <td>20000</td>\n",
       "      <td>10</td>\n",
       "      <td>Amazon</td>\n",
       "      <td>2086</td>\n",
       "      <td>NaN</td>\n",
       "      <td>NaN</td>\n",
       "      <td>NaN</td>\n",
       "      <td>NaN</td>\n",
       "      <td>NaN</td>\n",
       "      <td>NaN</td>\n",
       "      <td>NaN</td>\n",
       "    </tr>\n",
       "    <tr>\n",
       "      <th>Job Location</th>\n",
       "      <td>20000</td>\n",
       "      <td>10</td>\n",
       "      <td>Hyderabad</td>\n",
       "      <td>2055</td>\n",
       "      <td>NaN</td>\n",
       "      <td>NaN</td>\n",
       "      <td>NaN</td>\n",
       "      <td>NaN</td>\n",
       "      <td>NaN</td>\n",
       "      <td>NaN</td>\n",
       "      <td>NaN</td>\n",
       "    </tr>\n",
       "    <tr>\n",
       "      <th>Job Type</th>\n",
       "      <td>20000</td>\n",
       "      <td>4</td>\n",
       "      <td>Part-time</td>\n",
       "      <td>5111</td>\n",
       "      <td>NaN</td>\n",
       "      <td>NaN</td>\n",
       "      <td>NaN</td>\n",
       "      <td>NaN</td>\n",
       "      <td>NaN</td>\n",
       "      <td>NaN</td>\n",
       "      <td>NaN</td>\n",
       "    </tr>\n",
       "    <tr>\n",
       "      <th>Salary Range</th>\n",
       "      <td>20000</td>\n",
       "      <td>5</td>\n",
       "      <td>12-20 LPA</td>\n",
       "      <td>4066</td>\n",
       "      <td>NaN</td>\n",
       "      <td>NaN</td>\n",
       "      <td>NaN</td>\n",
       "      <td>NaN</td>\n",
       "      <td>NaN</td>\n",
       "      <td>NaN</td>\n",
       "      <td>NaN</td>\n",
       "    </tr>\n",
       "    <tr>\n",
       "      <th>Experience Required</th>\n",
       "      <td>20000</td>\n",
       "      <td>4</td>\n",
       "      <td>10+ years</td>\n",
       "      <td>5069</td>\n",
       "      <td>NaN</td>\n",
       "      <td>NaN</td>\n",
       "      <td>NaN</td>\n",
       "      <td>NaN</td>\n",
       "      <td>NaN</td>\n",
       "      <td>NaN</td>\n",
       "      <td>NaN</td>\n",
       "    </tr>\n",
       "    <tr>\n",
       "      <th>Posted Date</th>\n",
       "      <td>20000</td>\n",
       "      <td>31</td>\n",
       "      <td>2025-01-15</td>\n",
       "      <td>687</td>\n",
       "      <td>NaN</td>\n",
       "      <td>NaN</td>\n",
       "      <td>NaN</td>\n",
       "      <td>NaN</td>\n",
       "      <td>NaN</td>\n",
       "      <td>NaN</td>\n",
       "      <td>NaN</td>\n",
       "    </tr>\n",
       "    <tr>\n",
       "      <th>Application Deadline</th>\n",
       "      <td>20000</td>\n",
       "      <td>54</td>\n",
       "      <td>2025-01-23</td>\n",
       "      <td>667</td>\n",
       "      <td>NaN</td>\n",
       "      <td>NaN</td>\n",
       "      <td>NaN</td>\n",
       "      <td>NaN</td>\n",
       "      <td>NaN</td>\n",
       "      <td>NaN</td>\n",
       "      <td>NaN</td>\n",
       "    </tr>\n",
       "    <tr>\n",
       "      <th>Job Portal</th>\n",
       "      <td>20000</td>\n",
       "      <td>3</td>\n",
       "      <td>Naukri.com</td>\n",
       "      <td>6791</td>\n",
       "      <td>NaN</td>\n",
       "      <td>NaN</td>\n",
       "      <td>NaN</td>\n",
       "      <td>NaN</td>\n",
       "      <td>NaN</td>\n",
       "      <td>NaN</td>\n",
       "      <td>NaN</td>\n",
       "    </tr>\n",
       "    <tr>\n",
       "      <th>Number of Applicants</th>\n",
       "      <td>20000.0</td>\n",
       "      <td>NaN</td>\n",
       "      <td>NaN</td>\n",
       "      <td>NaN</td>\n",
       "      <td>256.7233</td>\n",
       "      <td>141.745833</td>\n",
       "      <td>10.0</td>\n",
       "      <td>134.0</td>\n",
       "      <td>258.0</td>\n",
       "      <td>380.0</td>\n",
       "      <td>500.0</td>\n",
       "    </tr>\n",
       "    <tr>\n",
       "      <th>Education Requirement</th>\n",
       "      <td>20000</td>\n",
       "      <td>5</td>\n",
       "      <td>B.Sc</td>\n",
       "      <td>4023</td>\n",
       "      <td>NaN</td>\n",
       "      <td>NaN</td>\n",
       "      <td>NaN</td>\n",
       "      <td>NaN</td>\n",
       "      <td>NaN</td>\n",
       "      <td>NaN</td>\n",
       "      <td>NaN</td>\n",
       "    </tr>\n",
       "    <tr>\n",
       "      <th>Skills Required</th>\n",
       "      <td>20000</td>\n",
       "      <td>720</td>\n",
       "      <td>React, SQL, Java</td>\n",
       "      <td>43</td>\n",
       "      <td>NaN</td>\n",
       "      <td>NaN</td>\n",
       "      <td>NaN</td>\n",
       "      <td>NaN</td>\n",
       "      <td>NaN</td>\n",
       "      <td>NaN</td>\n",
       "      <td>NaN</td>\n",
       "    </tr>\n",
       "    <tr>\n",
       "      <th>Remote/Onsite</th>\n",
       "      <td>20000</td>\n",
       "      <td>3</td>\n",
       "      <td>Remote</td>\n",
       "      <td>6742</td>\n",
       "      <td>NaN</td>\n",
       "      <td>NaN</td>\n",
       "      <td>NaN</td>\n",
       "      <td>NaN</td>\n",
       "      <td>NaN</td>\n",
       "      <td>NaN</td>\n",
       "      <td>NaN</td>\n",
       "    </tr>\n",
       "    <tr>\n",
       "      <th>Company Size</th>\n",
       "      <td>20000</td>\n",
       "      <td>3</td>\n",
       "      <td>Small (1-50)</td>\n",
       "      <td>6718</td>\n",
       "      <td>NaN</td>\n",
       "      <td>NaN</td>\n",
       "      <td>NaN</td>\n",
       "      <td>NaN</td>\n",
       "      <td>NaN</td>\n",
       "      <td>NaN</td>\n",
       "      <td>NaN</td>\n",
       "    </tr>\n",
       "  </tbody>\n",
       "</table>\n",
       "</div>"
      ],
      "text/plain": [
       "                         count unique                     top  freq      mean  \\\n",
       "Job Title                20000     10  Cyber Security Analyst  2085       NaN   \n",
       "Company Name             20000     10                  Amazon  2086       NaN   \n",
       "Job Location             20000     10               Hyderabad  2055       NaN   \n",
       "Job Type                 20000      4               Part-time  5111       NaN   \n",
       "Salary Range             20000      5               12-20 LPA  4066       NaN   \n",
       "Experience Required      20000      4               10+ years  5069       NaN   \n",
       "Posted Date              20000     31              2025-01-15   687       NaN   \n",
       "Application Deadline     20000     54              2025-01-23   667       NaN   \n",
       "Job Portal               20000      3              Naukri.com  6791       NaN   \n",
       "Number of Applicants   20000.0    NaN                     NaN   NaN  256.7233   \n",
       "Education Requirement    20000      5                    B.Sc  4023       NaN   \n",
       "Skills Required          20000    720        React, SQL, Java    43       NaN   \n",
       "Remote/Onsite            20000      3                  Remote  6742       NaN   \n",
       "Company Size             20000      3            Small (1-50)  6718       NaN   \n",
       "\n",
       "                              std   min    25%    50%    75%    max  \n",
       "Job Title                     NaN   NaN    NaN    NaN    NaN    NaN  \n",
       "Company Name                  NaN   NaN    NaN    NaN    NaN    NaN  \n",
       "Job Location                  NaN   NaN    NaN    NaN    NaN    NaN  \n",
       "Job Type                      NaN   NaN    NaN    NaN    NaN    NaN  \n",
       "Salary Range                  NaN   NaN    NaN    NaN    NaN    NaN  \n",
       "Experience Required           NaN   NaN    NaN    NaN    NaN    NaN  \n",
       "Posted Date                   NaN   NaN    NaN    NaN    NaN    NaN  \n",
       "Application Deadline          NaN   NaN    NaN    NaN    NaN    NaN  \n",
       "Job Portal                    NaN   NaN    NaN    NaN    NaN    NaN  \n",
       "Number of Applicants   141.745833  10.0  134.0  258.0  380.0  500.0  \n",
       "Education Requirement         NaN   NaN    NaN    NaN    NaN    NaN  \n",
       "Skills Required               NaN   NaN    NaN    NaN    NaN    NaN  \n",
       "Remote/Onsite                 NaN   NaN    NaN    NaN    NaN    NaN  \n",
       "Company Size                  NaN   NaN    NaN    NaN    NaN    NaN  "
      ]
     },
     "execution_count": 71,
     "metadata": {},
     "output_type": "execute_result"
    }
   ],
   "source": [
    "data.describe(include='all').T"
   ]
  },
  {
   "cell_type": "code",
   "execution_count": 72,
   "metadata": {},
   "outputs": [
    {
     "name": "stdout",
     "output_type": "stream",
     "text": [
      "Categorical Variables:\n",
      "Index(['Job Title', 'Company Name', 'Job Location', 'Job Type', 'Salary Range',\n",
      "       'Experience Required', 'Posted Date', 'Application Deadline',\n",
      "       'Job Portal', 'Education Requirement', 'Skills Required',\n",
      "       'Remote/Onsite', 'Company Size'],\n",
      "      dtype='object')\n",
      "Numerical Variables:\n",
      "['Number of Applicants']\n"
     ]
    }
   ],
   "source": [
    "cat_cols=data.select_dtypes(include=['object']).columns\n",
    "num_cols = data.select_dtypes(include=np.number).columns.tolist()\n",
    "print(\"Categorical Variables:\")\n",
    "print(cat_cols)\n",
    "print(\"Numerical Variables:\")\n",
    "print(num_cols)"
   ]
  },
  {
   "cell_type": "code",
   "execution_count": 73,
   "metadata": {},
   "outputs": [
    {
     "name": "stdout",
     "output_type": "stream",
     "text": [
      "Number of Applicants\n",
      "Skew : -0.01\n"
     ]
    },
    {
     "data": {
      "image/png": "[encoded data removed]",
      "text/plain": [
       "<Figure size 1500x400 with 2 Axes>"
      ]
     },
     "metadata": {},
     "output_type": "display_data"
    }
   ],
   "source": [
    "for col in num_cols:\n",
    "    print(col)\n",
    "    print('Skew :', round(data[col].skew(), 2))\n",
    "    plt.figure(figsize = (15, 4))\n",
    "    plt.subplot(1, 2, 1)\n",
    "    data[col].hist(grid=False)\n",
    "    plt.ylabel('count')\n",
    "    plt.subplot(1, 2, 2)\n",
    "    sns.boxplot(x=data[col])\n",
    "    plt.show()"
   ]
  },
  {
   "cell_type": "code",
   "execution_count": 74,
   "metadata": {},
   "outputs": [],
   "source": [
    "# Function for log transformation of the column\n",
    "def log_transform(data,col):\n",
    "    for colname in col:\n",
    "        if (data[colname] == 1.0).all():\n",
    "            data[colname + '_log'] = np.log(data[colname]+1)\n",
    "        else:\n",
    "            data[colname + '_log'] = np.log(data[colname])\n",
    "    data.info()"
   ]
  },
  {
   "cell_type": "code",
   "execution_count": 75,
   "metadata": {},
   "outputs": [
    {
     "name": "stdout",
     "output_type": "stream",
     "text": [
      "Index(['Job Title', 'Company Name', 'Job Location', 'Job Type', 'Salary Range',\n",
      "       'Experience Required', 'Posted Date', 'Application Deadline',\n",
      "       'Job Portal', 'Number of Applicants', 'Education Requirement',\n",
      "       'Skills Required', 'Remote/Onsite', 'Company Size'],\n",
      "      dtype='object')\n"
     ]
    }
   ],
   "source": [
    "print(data.columns)"
   ]
  },
  {
   "cell_type": "code",
   "execution_count": 76,
   "metadata": {},
   "outputs": [
    {
     "data": {
      "image/png": "[encoded data removed]",
      "text/plain": [
       "<Figure size 400x600 with 1 Axes>"
      ]
     },
     "metadata": {},
     "output_type": "display_data"
    }
   ],
   "source": [
    "data = pd.DataFrame({\n",
    "    'years': [2000, 2001, 2002, 2003, 2004, 2005, 2006, 2007, 2008, 2009, \n",
    "              2010, 2011, 2012, 2013, 2014, 2015, 2016, 2017, 2018, 2019]\n",
    "})\n",
    "\n",
    "# Check if 'years' column exists and plot histogram\n",
    "if 'years' in data.columns:\n",
    "    # Create a histogram plot for the 'years' column\n",
    "    plt.figure(figsize=(4,6))\n",
    "    sns.histplot(data['years'], bins=20, kde=True, color='blue')\n",
    "    plt.title('Year Distribution')\n",
    "    plt.xlabel('Year')\n",
    "    plt.ylabel('Frequency')\n",
    "    plt.show()\n",
    "else:\n",
    "    print(\"The 'years' column does not exist in the dataset.\")"
   ]
  },
  {
   "cell_type": "code",
   "execution_count": 88,
   "metadata": {
    "vscode": {
     "languageId": "perl"
    }
   },
   "outputs": [
    {
     "data": {
      "image/png": "[encoded data removed]",
      "text/plain": [
       "<Figure size 1000x600 with 1 Axes>"
      ]
     },
     "metadata": {},
     "output_type": "display_data"
    }
   ],
   "source": [
    "# Bar Graph for 'Job Type'\n",
    "plt.figure(figsize=(10, 6))\n",
    "sns.countplot(data=data, x='Job Type')\n",
    "plt.title('Job Type Distribution')\n",
    "plt.xlabel('Job Type')\n",
    "plt.ylabel('Count')\n",
    "plt.xticks(rotation=45)\n",
    "plt.show()\n",
    "\n",
    "\n"
   ]
  },
  {
   "cell_type": "code",
   "execution_count": 90,
   "metadata": {
    "vscode": {
     "languageId": "perl"
    }
   },
   "outputs": [
    {
     "data": {
      "image/png": "[encoded data removed]",
      "text/plain": [
       "<Figure size 1000x600 with 1 Axes>"
      ]
     },
     "metadata": {},
     "output_type": "display_data"
    }
   ],
   "source": [
    "# Histogram for 'Number of Applicants'\n",
    "plt.figure(figsize=(10, 6))\n",
    "sns.histplot(data['Number of Applicants'], bins=30, kde=True, color='blue')\n",
    "plt.title('Number of Applicants Distribution')\n",
    "plt.xlabel('Number of Applicants')\n",
    "plt.ylabel('Frequency')\n",
    "plt.show()\n",
    "\n",
    "\n"
   ]
  },
  {
   "cell_type": "code",
   "execution_count": 93,
   "metadata": {
    "vscode": {
     "languageId": "perl"
    }
   },
   "outputs": [
    {
     "data": {
      "text/plain": [
       "<Figure size 1000x600 with 0 Axes>"
      ]
     },
     "metadata": {},
     "output_type": "display_data"
    },
    {
     "data": {
      "image/png": "[encoded data removed]",
      "text/plain": [
       "<Figure size 500x500 with 1 Axes>"
      ]
     },
     "metadata": {},
     "output_type": "display_data"
    }
   ],
   "source": [
    "# Distribution Graph for 'Number of Applicants'\n",
    "plt.figure(figsize=(10, 6))\n",
    "sns.displot(data['Number of Applicants'], bins=30, kde=True, color='green')\n",
    "plt.title('Number of Applicants Distribution')\n",
    "plt.xlabel('Number of Applicants')\n",
    "plt.ylabel('Density')\n",
    "plt.show()"
   ]
  }
 ],
 "metadata": {
  "kernelspec": {
   "display_name": "Python 3",
   "language": "python",
   "name": "python3"
  },
  "language_info": {
   "codemirror_mode": {
    "name": "ipython",
    "version": 3
   },
   "file_extension": ".py",
   "mimetype": "text/x-python",
   "name": "python",
   "nbconvert_exporter": "python",
   "pygments_lexer": "ipython3",
   "version": "3.13.1"
  }
 },
 "nbformat": 4,
 "nbformat_minor": 2
}
